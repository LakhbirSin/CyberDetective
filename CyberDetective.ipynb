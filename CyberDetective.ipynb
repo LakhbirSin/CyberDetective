{
 "cells": [
  {
   "cell_type": "code",
   "execution_count": 1,
   "id": "28eb7ffa",
   "metadata": {},
   "outputs": [],
   "source": [
    "from bs4 import BeautifulSoup\n",
    "import requests\n",
    "import lxml\n",
    "import pandas as pd"
   ]
  },
  {
   "cell_type": "code",
   "execution_count": 2,
   "id": "d30a0fcf",
   "metadata": {},
   "outputs": [],
   "source": [
    "def export_table_and_print(tables):\n",
    "    table = pd.DataFrame(data, columns=[\n",
    "        'products','prices','ratings','stocks','links' ])\n",
    "    table.index = table.index + 1 "
   ]
  },
  {
   "cell_type": "code",
   "execution_count": 3,
   "id": "6f9f0ccc",
   "metadata": {},
   "outputs": [],
   "source": [
    "def get_livres(livre):\n",
    "    product = livre.find('h3').find('a').attrs['title']\n",
    "    price = livre.find('p', class_='price_color').text\n",
    "    rating = livre.find('p', class_='star-rating')\n",
    "    stock = livre.find('p', class_='instock availability').text\n",
    "    link = livre.find('h3').find('a').attrs['href']\n",
    "    l = rating['class']\n",
    "    stars = \" \".join(l)\n",
    "    stars = stars.replace(\"star-rating \", \"\")\n",
    "    if stars == \"One\":\n",
    "        star = 1\n",
    "    elif stars ==\"Two\":\n",
    "        star = 2\n",
    "    elif stars ==\"Three\":\n",
    "        star = 3\n",
    "    elif stars ==\"Four\":\n",
    "        star = 4\n",
    "    elif stars ==\"Five\":\n",
    "        star = 5\n",
    "    tables['products'].append(product)\n",
    "    tables['prices'].append(price)\n",
    "    tables['ratings'].append(star)\n",
    "    tables['stocks'].append(stock)\n",
    "    tables['links'].append(link)\n",
    "    return tables\n"
   ]
  },
  {
   "cell_type": "code",
   "execution_count": null,
   "id": "e9b9bebc",
   "metadata": {},
   "outputs": [],
   "source": [
    "tables = {\n",
    "            'products' : [], 'prices' : [], 'ratings' : [], 'stocks' : [], 'links' : []\n",
    "        }\n",
    "\n",
    "# Checking if we successfully fetched the URL\n",
    "for i in range(1, 51):\n",
    "    url = f\"https://books.toscrape.com/catalogue/page-{i}.html\"\n",
    "    page = requests.get(url)\n",
    "    if page.status_code == requests.codes.ok:\n",
    "        bs = BeautifulSoup(page.text, 'lxml')\n",
    "        # Fetching all items\n",
    "        list_all_livres = bs.findAll('article', class_='product_pod')        \n",
    "        \n",
    "        for livre in list_all_livres:\n",
    "            get_livres(livre)\n",
    "\n",
    "   \n",
    "Cd = pd.DataFrame(tables).reset_index()\n",
    "Cd"
   ]
  },
  {
   "cell_type": "code",
   "execution_count": null,
   "id": "72530c49",
   "metadata": {},
   "outputs": [],
   "source": [
    "Cd.to_csv('livres.csv', index=False)"
   ]
  },
  {
   "cell_type": "code",
   "execution_count": null,
   "id": "10992bef",
   "metadata": {},
   "outputs": [],
   "source": []
  }
 ],
 "metadata": {
  "kernelspec": {
   "display_name": "Python 3 (ipykernel)",
   "language": "python",
   "name": "python3"
  },
  "language_info": {
   "codemirror_mode": {
    "name": "ipython",
    "version": 3
   },
   "file_extension": ".py",
   "mimetype": "text/x-python",
   "name": "python",
   "nbconvert_exporter": "python",
   "pygments_lexer": "ipython3",
   "version": "3.9.12"
  }
 },
 "nbformat": 4,
 "nbformat_minor": 5
}
