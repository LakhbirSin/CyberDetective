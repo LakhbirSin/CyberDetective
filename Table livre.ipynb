{
 "cells": [
  {
   "cell_type": "code",
   "execution_count": 1,
   "id": "5a704e6b",
   "metadata": {},
   "outputs": [],
   "source": [
    "import pyodbc\n",
    "import pandas as pd"
   ]
  },
  {
   "cell_type": "code",
   "execution_count": 2,
   "id": "345848fc",
   "metadata": {},
   "outputs": [],
   "source": [
    "cd = pd.read_csv('livres.csv')\n",
    "livre = cd[['products','prices','ratings','stocks','links']]"
   ]
  },
  {
   "cell_type": "code",
   "execution_count": 3,
   "id": "9ce04c6e",
   "metadata": {},
   "outputs": [],
   "source": [
    "# Trusted Connection to Named Instance\n",
    "connection = pyodbc.connect('DRIVER={SQL Server};SERVER=UTILISA-TRBVTGI\\SQLEXPRESS;DATABASE=Livres;Trusted_Connection=yes;')"
   ]
  },
  {
   "cell_type": "code",
   "execution_count": 4,
   "id": "c89fb65a",
   "metadata": {},
   "outputs": [
    {
     "data": {
      "text/plain": [
       "<pyodbc.Cursor at 0x192b0fbcc30>"
      ]
     },
     "execution_count": 4,
     "metadata": {},
     "output_type": "execute_result"
    }
   ],
   "source": [
    "cursor=connection.cursor()\n",
    "sql = \"Insert into livre(products,prices,ratings,stocks,links) Values(?,?,?,?,?)\"\n",
    "for i,row in livre.iterrows():\n",
    "    cursor.execute(sql, tuple(row))\n",
    "    connection.commit()\n",
    "cursor.execute(\"SELECT * FROM livre\")"
   ]
  },
  {
   "cell_type": "code",
   "execution_count": null,
   "id": "97db21d2",
   "metadata": {},
   "outputs": [],
   "source": []
  }
 ],
 "metadata": {
  "kernelspec": {
   "display_name": "Python 3 (ipykernel)",
   "language": "python",
   "name": "python3"
  },
  "language_info": {
   "codemirror_mode": {
    "name": "ipython",
    "version": 3
   },
   "file_extension": ".py",
   "mimetype": "text/x-python",
   "name": "python",
   "nbconvert_exporter": "python",
   "pygments_lexer": "ipython3",
   "version": "3.9.12"
  }
 },
 "nbformat": 4,
 "nbformat_minor": 5
}
