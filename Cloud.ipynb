{
 "cells": [
  {
   "cell_type": "markdown",
   "id": "3bd2ee74",
   "metadata": {},
   "source": [
    "# Etape 3 : Les visualisations"
   ]
  },
  {
   "cell_type": "code",
   "execution_count": 1,
   "id": "c837e5f1",
   "metadata": {},
   "outputs": [],
   "source": [
    "#!pip install wordcloud"
   ]
  },
  {
   "cell_type": "code",
   "execution_count": 2,
   "id": "ae40d5d1",
   "metadata": {},
   "outputs": [],
   "source": [
    "# Start with loading all necessary libraries\n",
    "import numpy as np\n",
    "import pandas as pd\n",
    "from os import path\n",
    "from PIL import Image\n",
    "from wordcloud import WordCloud, STOPWORDS, ImageColorGenerator"
   ]
  },
  {
   "cell_type": "code",
   "execution_count": 3,
   "id": "467a745f",
   "metadata": {},
   "outputs": [
    {
     "name": "stderr",
     "output_type": "stream",
     "text": [
      "UsageError: Line magic function `%` not found.\n"
     ]
    }
   ],
   "source": [
    "import matplotlib.pyplot as plt\n",
    "% matplotlib inline\n",
    "import warnings\n",
    "warnings.filterwarnings(\"ignore\")\n"
   ]
  },
  {
   "cell_type": "markdown",
   "id": "1d01d5b6",
   "metadata": {},
   "source": [
    "# Cloud Words"
   ]
  },
  {
   "cell_type": "code",
   "execution_count": null,
   "id": "55471439",
   "metadata": {},
   "outputs": [],
   "source": [
    "Cloud = pd.read_csv(\"Tweets.csv\")\n",
    "Cloud"
   ]
  },
  {
   "cell_type": "code",
   "execution_count": null,
   "id": "a20cb2cb",
   "metadata": {},
   "outputs": [],
   "source": [
    "# Start with one review:\n",
    "text = \" \".join(i for i in Cloud['Text'])\n",
    "# Stopword list\n",
    "stopwords = set(STOPWORDS)\n",
    "stopwords.update(['https','t','co','will','say','got','first','amp','don','go','s','de'])\n",
    "\n",
    "# Create and generate a word cloud image:\n",
    "wordcloud = WordCloud(stopwords=stopwords).generate(text)\n",
    "\n",
    "# Display the generated image:\n",
    "plt.imshow(wordcloud, interpolation='bilinear')\n",
    "plt.axis(\"off\")\n",
    "plt.show()\n"
   ]
  },
  {
   "cell_type": "markdown",
   "id": "de791120",
   "metadata": {},
   "source": [
    "## Frequencies"
   ]
  },
  {
   "cell_type": "code",
   "execution_count": null,
   "id": "b3ad602f",
   "metadata": {},
   "outputs": [],
   "source": [
    "FreqWords = Cloud[\"Text\"]"
   ]
  },
  {
   "cell_type": "code",
   "execution_count": null,
   "id": "b9731fd0",
   "metadata": {},
   "outputs": [],
   "source": [
    "OneWord = FreqWords.str.split(expand=True).stack().value_counts().reset_index()\n",
    "OneWord.columns = ['Word', 'Frequency'] \n",
    "OneWord"
   ]
  },
  {
   "cell_type": "code",
   "execution_count": null,
   "id": "c2280686",
   "metadata": {},
   "outputs": [],
   "source": [
    "def get_ngrams(text, ngram_from=2, ngram_to=2, n=None, max_features=20000):\n",
    "    \n",
    "    vec = CountVectorizer(ngram_range = (ngram_from, ngram_to), \n",
    "                          max_features = max_features, \n",
    "                          stop_words='english').fit(text)\n",
    "    bag_of_words = vec.transform(text)\n",
    "    sum_words = bag_of_words.sum(axis = 0) \n",
    "    words_freq = [(word, sum_words[0, i]) for word, i in vec.vocabulary_.items()]\n",
    "    words_freq = sorted(words_freq, key = lambda x: x[1], reverse = True)\n",
    "   \n",
    "    return words_freq[:n]\n"
   ]
  },
  {
   "cell_type": "code",
   "execution_count": null,
   "id": "324ef2d3",
   "metadata": {},
   "outputs": [],
   "source": [
    "TwoWords = get_ngrams(FreqWords, ngram_from=2, ngram_to=2, n=5)\n",
    "TwoWords_df = pd.DataFrame(TwoWords)\n",
    "TwoWords_df.columns=[\"TwoWords\", \"Frequency\"]\n",
    "TwoWords_df"
   ]
  },
  {
   "cell_type": "code",
   "execution_count": null,
   "id": "a919637c",
   "metadata": {},
   "outputs": [],
   "source": [
    "ThreeWords = get_ngrams(Freq2Words, ngram_from=3, ngram_to=3, n=5)\n",
    "ThreeWords_df = pd.DataFrame(ThreeWords)\n",
    "ThreeWords_df.columns=[\"ThreeWords\", \"Frequency\"]\n",
    "ThreeWords_df"
   ]
  },
  {
   "cell_type": "code",
   "execution_count": null,
   "id": "ca14d31d",
   "metadata": {},
   "outputs": [],
   "source": []
  }
 ],
 "metadata": {
  "kernelspec": {
   "display_name": "Python 3 (ipykernel)",
   "language": "python",
   "name": "python3"
  },
  "language_info": {
   "codemirror_mode": {
    "name": "ipython",
    "version": 3
   },
   "file_extension": ".py",
   "mimetype": "text/x-python",
   "name": "python",
   "nbconvert_exporter": "python",
   "pygments_lexer": "ipython3",
   "version": "3.9.12"
  }
 },
 "nbformat": 4,
 "nbformat_minor": 5
}
